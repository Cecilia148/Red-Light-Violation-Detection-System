{
 "cells": [
  {
   "cell_type": "markdown",
   "metadata": {},
   "source": [
    "#Importing the required libraries"
   ]
  },
  {
   "cell_type": "code",
   "execution_count": 1,
   "metadata": {},
   "outputs": [],
   "source": [
    "#Creating a helper variable to manage different paths\n",
    "import os"
   ]
  },
  {
   "cell_type": "code",
   "execution_count": 3,
   "metadata": {},
   "outputs": [],
   "source": [
    "#Returning path files that match a specific pattern\n",
    "import glob"
   ]
  },
  {
   "cell_type": "code",
   "execution_count": 4,
   "metadata": {},
   "outputs": [],
   "source": [
    "#import image to display a single image\n",
    "#import display to display multiple images\n",
    "\n",
    "from IPython.display import Image, display"
   ]
  },
  {
   "cell_type": "code",
   "execution_count": 5,
   "metadata": {},
   "outputs": [],
   "source": [
    "#To clear output in the notebook use clear_output function\n",
    "#display.clear_output()"
   ]
  },
  {
   "cell_type": "code",
   "execution_count": 6,
   "metadata": {},
   "outputs": [],
   "source": [
    "#Get the current working directory\n",
    "HOME = os.getcwd()"
   ]
  },
  {
   "cell_type": "code",
   "execution_count": 7,
   "metadata": {},
   "outputs": [
    {
     "name": "stdout",
     "output_type": "stream",
     "text": [
      "c:\\Users\\USER\\Desktop\\Red-Light-Violation-Detection-System\n"
     ]
    }
   ],
   "source": [
    "print (HOME)"
   ]
  },
  {
   "cell_type": "markdown",
   "metadata": {},
   "source": [
    "#Installing ultralytics using pip install"
   ]
  },
  {
   "cell_type": "code",
   "execution_count": 19,
   "metadata": {},
   "outputs": [
    {
     "name": "stdout",
     "output_type": "stream",
     "text": [
      "Requirement already satisfied: ultralytics==8.0.196 in c:\\users\\user\\desktop\\red-light-violation-detection-system\\.venv\\lib\\site-packages (8.0.196)\n",
      "Requirement already satisfied: matplotlib>=3.3.0 in c:\\users\\user\\desktop\\red-light-violation-detection-system\\.venv\\lib\\site-packages (from ultralytics==8.0.196) (3.8.4)\n",
      "Requirement already satisfied: numpy>=1.22.2 in c:\\users\\user\\desktop\\red-light-violation-detection-system\\.venv\\lib\\site-packages (from ultralytics==8.0.196) (1.26.4)\n",
      "Requirement already satisfied: opencv-python>=4.6.0 in c:\\users\\user\\desktop\\red-light-violation-detection-system\\.venv\\lib\\site-packages (from ultralytics==8.0.196) (4.9.0.80)\n",
      "Requirement already satisfied: pillow>=7.1.2 in c:\\users\\user\\desktop\\red-light-violation-detection-system\\.venv\\lib\\site-packages (from ultralytics==8.0.196) (10.3.0)\n",
      "Requirement already satisfied: pyyaml>=5.3.1 in c:\\users\\user\\desktop\\red-light-violation-detection-system\\.venv\\lib\\site-packages (from ultralytics==8.0.196) (6.0.1)\n",
      "Requirement already satisfied: requests>=2.23.0 in c:\\users\\user\\desktop\\red-light-violation-detection-system\\.venv\\lib\\site-packages (from ultralytics==8.0.196) (2.31.0)\n",
      "Requirement already satisfied: scipy>=1.4.1 in c:\\users\\user\\desktop\\red-light-violation-detection-system\\.venv\\lib\\site-packages (from ultralytics==8.0.196) (1.13.0)\n",
      "Requirement already satisfied: torch>=1.8.0 in c:\\users\\user\\desktop\\red-light-violation-detection-system\\.venv\\lib\\site-packages (from ultralytics==8.0.196) (2.2.2)\n",
      "Requirement already satisfied: torchvision>=0.9.0 in c:\\users\\user\\desktop\\red-light-violation-detection-system\\.venv\\lib\\site-packages (from ultralytics==8.0.196) (0.17.2)\n",
      "Requirement already satisfied: tqdm>=4.64.0 in c:\\users\\user\\desktop\\red-light-violation-detection-system\\.venv\\lib\\site-packages (from ultralytics==8.0.196) (4.66.2)\n",
      "Requirement already satisfied: pandas>=1.1.4 in c:\\users\\user\\desktop\\red-light-violation-detection-system\\.venv\\lib\\site-packages (from ultralytics==8.0.196) (2.2.2)\n",
      "Requirement already satisfied: seaborn>=0.11.0 in c:\\users\\user\\desktop\\red-light-violation-detection-system\\.venv\\lib\\site-packages (from ultralytics==8.0.196) (0.13.2)\n",
      "Requirement already satisfied: psutil in c:\\users\\user\\desktop\\red-light-violation-detection-system\\.venv\\lib\\site-packages (from ultralytics==8.0.196) (5.9.8)\n",
      "Requirement already satisfied: py-cpuinfo in c:\\users\\user\\desktop\\red-light-violation-detection-system\\.venv\\lib\\site-packages (from ultralytics==8.0.196) (9.0.0)\n",
      "Requirement already satisfied: thop>=0.1.1 in c:\\users\\user\\desktop\\red-light-violation-detection-system\\.venv\\lib\\site-packages (from ultralytics==8.0.196) (0.1.1.post2209072238)\n",
      "Requirement already satisfied: contourpy>=1.0.1 in c:\\users\\user\\desktop\\red-light-violation-detection-system\\.venv\\lib\\site-packages (from matplotlib>=3.3.0->ultralytics==8.0.196) (1.2.1)\n",
      "Requirement already satisfied: cycler>=0.10 in c:\\users\\user\\desktop\\red-light-violation-detection-system\\.venv\\lib\\site-packages (from matplotlib>=3.3.0->ultralytics==8.0.196) (0.10.0)\n",
      "Requirement already satisfied: fonttools>=4.22.0 in c:\\users\\user\\desktop\\red-light-violation-detection-system\\.venv\\lib\\site-packages (from matplotlib>=3.3.0->ultralytics==8.0.196) (4.51.0)\n",
      "Requirement already satisfied: kiwisolver>=1.3.1 in c:\\users\\user\\desktop\\red-light-violation-detection-system\\.venv\\lib\\site-packages (from matplotlib>=3.3.0->ultralytics==8.0.196) (1.4.5)\n",
      "Requirement already satisfied: packaging>=20.0 in c:\\users\\user\\desktop\\red-light-violation-detection-system\\.venv\\lib\\site-packages (from matplotlib>=3.3.0->ultralytics==8.0.196) (24.0)\n",
      "Requirement already satisfied: pyparsing>=2.3.1 in c:\\users\\user\\desktop\\red-light-violation-detection-system\\.venv\\lib\\site-packages (from matplotlib>=3.3.0->ultralytics==8.0.196) (3.1.2)\n",
      "Requirement already satisfied: python-dateutil>=2.7 in c:\\users\\user\\desktop\\red-light-violation-detection-system\\.venv\\lib\\site-packages (from matplotlib>=3.3.0->ultralytics==8.0.196) (2.9.0.post0)\n",
      "Requirement already satisfied: pytz>=2020.1 in c:\\users\\user\\desktop\\red-light-violation-detection-system\\.venv\\lib\\site-packages (from pandas>=1.1.4->ultralytics==8.0.196) (2024.1)\n",
      "Requirement already satisfied: tzdata>=2022.7 in c:\\users\\user\\desktop\\red-light-violation-detection-system\\.venv\\lib\\site-packages (from pandas>=1.1.4->ultralytics==8.0.196) (2024.1)\n",
      "Requirement already satisfied: charset-normalizer<4,>=2 in c:\\users\\user\\desktop\\red-light-violation-detection-system\\.venv\\lib\\site-packages (from requests>=2.23.0->ultralytics==8.0.196) (3.3.2)\n",
      "Requirement already satisfied: idna<4,>=2.5 in c:\\users\\user\\desktop\\red-light-violation-detection-system\\.venv\\lib\\site-packages (from requests>=2.23.0->ultralytics==8.0.196) (2.10)\n",
      "Requirement already satisfied: urllib3<3,>=1.21.1 in c:\\users\\user\\desktop\\red-light-violation-detection-system\\.venv\\lib\\site-packages (from requests>=2.23.0->ultralytics==8.0.196) (2.2.1)\n",
      "Requirement already satisfied: certifi>=2017.4.17 in c:\\users\\user\\desktop\\red-light-violation-detection-system\\.venv\\lib\\site-packages (from requests>=2.23.0->ultralytics==8.0.196) (2023.7.22)\n",
      "Requirement already satisfied: filelock in c:\\users\\user\\desktop\\red-light-violation-detection-system\\.venv\\lib\\site-packages (from torch>=1.8.0->ultralytics==8.0.196) (3.13.4)\n",
      "Requirement already satisfied: typing-extensions>=4.8.0 in c:\\users\\user\\desktop\\red-light-violation-detection-system\\.venv\\lib\\site-packages (from torch>=1.8.0->ultralytics==8.0.196) (4.11.0)\n",
      "Requirement already satisfied: sympy in c:\\users\\user\\desktop\\red-light-violation-detection-system\\.venv\\lib\\site-packages (from torch>=1.8.0->ultralytics==8.0.196) (1.12)\n",
      "Requirement already satisfied: networkx in c:\\users\\user\\desktop\\red-light-violation-detection-system\\.venv\\lib\\site-packages (from torch>=1.8.0->ultralytics==8.0.196) (3.3)\n",
      "Requirement already satisfied: jinja2 in c:\\users\\user\\desktop\\red-light-violation-detection-system\\.venv\\lib\\site-packages (from torch>=1.8.0->ultralytics==8.0.196) (3.1.3)\n",
      "Requirement already satisfied: fsspec in c:\\users\\user\\desktop\\red-light-violation-detection-system\\.venv\\lib\\site-packages (from torch>=1.8.0->ultralytics==8.0.196) (2024.3.1)\n",
      "Requirement already satisfied: colorama in c:\\users\\user\\desktop\\red-light-violation-detection-system\\.venv\\lib\\site-packages (from tqdm>=4.64.0->ultralytics==8.0.196) (0.4.6)\n",
      "Requirement already satisfied: six in c:\\users\\user\\desktop\\red-light-violation-detection-system\\.venv\\lib\\site-packages (from cycler>=0.10->matplotlib>=3.3.0->ultralytics==8.0.196) (1.16.0)\n",
      "Requirement already satisfied: MarkupSafe>=2.0 in c:\\users\\user\\desktop\\red-light-violation-detection-system\\.venv\\lib\\site-packages (from jinja2->torch>=1.8.0->ultralytics==8.0.196) (2.1.5)\n",
      "Requirement already satisfied: mpmath>=0.19 in c:\\users\\user\\desktop\\red-light-violation-detection-system\\.venv\\lib\\site-packages (from sympy->torch>=1.8.0->ultralytics==8.0.196) (1.3.0)\n"
     ]
    }
   ],
   "source": [
    "!pip install ultralytics==8.0.196"
   ]
  },
  {
   "cell_type": "code",
   "execution_count": 25,
   "metadata": {},
   "outputs": [
    {
     "name": "stderr",
     "output_type": "stream",
     "text": [
      "Cloning into 'ultralytics'...\n",
      "Updating files:  72% (103/142)\n",
      "Updating files:  73% (104/142)\n",
      "Updating files:  74% (106/142)\n",
      "Updating files:  75% (107/142)\n",
      "Updating files:  76% (108/142)\n",
      "Updating files:  77% (110/142)\n",
      "Updating files:  78% (111/142)\n",
      "Updating files:  79% (113/142)\n",
      "Updating files:  80% (114/142)\n",
      "Updating files:  81% (116/142)\n",
      "Updating files:  82% (117/142)\n",
      "Updating files:  83% (118/142)\n",
      "Updating files:  84% (120/142)\n",
      "Updating files:  85% (121/142)\n",
      "Updating files:  86% (123/142)\n",
      "Updating files:  87% (124/142)\n",
      "Updating files:  88% (125/142)\n",
      "Updating files:  89% (127/142)\n",
      "Updating files:  90% (128/142)\n",
      "Updating files:  91% (130/142)\n",
      "Updating files:  92% (131/142)\n",
      "Updating files:  93% (133/142)\n",
      "Updating files:  94% (134/142)\n",
      "Updating files:  95% (135/142)\n",
      "Updating files:  96% (137/142)\n",
      "Updating files:  97% (138/142)\n",
      "Updating files:  98% (140/142)\n",
      "Updating files:  99% (141/142)\n",
      "Updating files: 100% (142/142)\n",
      "Updating files: 100% (142/142), done.\n"
     ]
    }
   ],
   "source": [
    "!git clone https://github.com/MuhammadMoin97/ultralytics.git"
   ]
  },
  {
   "cell_type": "markdown",
   "metadata": {},
   "source": [
    "#setting current directory"
   ]
  },
  {
   "cell_type": "code",
   "execution_count": 9,
   "metadata": {},
   "outputs": [
    {
     "name": "stdout",
     "output_type": "stream",
     "text": [
      "c:\\Users\\USER\\Desktop\\Red-Light-Violation-Detection-System\\ultralytics\n"
     ]
    }
   ],
   "source": [
    "%cd {HOME}/ultralytics"
   ]
  },
  {
   "cell_type": "markdown",
   "metadata": {},
   "source": [
    "#Installing all the dependencies"
   ]
  },
  {
   "cell_type": "code",
   "execution_count": 10,
   "metadata": {},
   "outputs": [
    {
     "name": "stderr",
     "output_type": "stream",
     "text": [
      "\n",
      "Usage:   \n",
      "  pip install [options] <requirement specifier> [package-index-options] ...\n",
      "  pip install [options] -r <requirements file> [package-index-options] ...\n",
      "  pip install [options] [-e] <vcs project url> ...\n",
      "  pip install [options] [-e] <local project path> ...\n",
      "  pip install [options] <archive url/path> ...\n",
      "\n",
      "-e option requires 1 argument\n"
     ]
    }
   ],
   "source": [
    "!pip install -e"
   ]
  },
  {
   "cell_type": "markdown",
   "metadata": {},
   "source": [
    "#Checking whether yolov8 is installed and working"
   ]
  },
  {
   "cell_type": "code",
   "execution_count": 11,
   "metadata": {},
   "outputs": [
    {
     "name": "stderr",
     "output_type": "stream",
     "text": [
      "WARNING  Different global settings detected, resetting to defaults. This may be due to an ultralytics package update. View and update your global settings directly in C:\\Users\\USER\\AppData\\Roaming\\Ultralytics\\settings.yaml\n"
     ]
    }
   ],
   "source": [
    "import ultralytics"
   ]
  },
  {
   "cell_type": "code",
   "execution_count": 12,
   "metadata": {},
   "outputs": [
    {
     "name": "stderr",
     "output_type": "stream",
     "text": [
      "Ultralytics YOLOv8.0.3  Python-3.12.3 torch-2.2.2+cpu CPU\n",
      "Setup complete  (2 CPUs, 3.8 GB RAM, 97.4/118.7 GB disk)\n"
     ]
    }
   ],
   "source": [
    "ultralytics.checks()"
   ]
  },
  {
   "cell_type": "markdown",
   "metadata": {},
   "source": [
    "#Importing the traffic lights dataset from roboflow"
   ]
  },
  {
   "cell_type": "code",
   "execution_count": 13,
   "metadata": {},
   "outputs": [],
   "source": [
    "HOME = 'c:/users/user/desktop/red-light-violation-detection-system/ultralytics/ultralytics/yolo/v8/detect'"
   ]
  },
  {
   "cell_type": "code",
   "execution_count": 22,
   "metadata": {},
   "outputs": [
    {
     "name": "stdout",
     "output_type": "stream",
     "text": [
      "c:\\users\\user\\desktop\\red-light-violation-detection-system\\ultralytics\\ultralytics\\yolo\\v8\\detect\n",
      "Requirement already satisfied: roboflow in c:\\users\\user\\desktop\\red-light-violation-detection-system\\.venv\\lib\\site-packages (1.1.27)\n",
      "Requirement already satisfied: certifi==2023.7.22 in c:\\users\\user\\desktop\\red-light-violation-detection-system\\.venv\\lib\\site-packages (from roboflow) (2023.7.22)\n",
      "Requirement already satisfied: chardet==4.0.0 in c:\\users\\user\\desktop\\red-light-violation-detection-system\\.venv\\lib\\site-packages (from roboflow) (4.0.0)\n",
      "Requirement already satisfied: cycler==0.10.0 in c:\\users\\user\\desktop\\red-light-violation-detection-system\\.venv\\lib\\site-packages (from roboflow) (0.10.0)\n",
      "Requirement already satisfied: idna==2.10 in c:\\users\\user\\desktop\\red-light-violation-detection-system\\.venv\\lib\\site-packages (from roboflow) (2.10)\n",
      "Requirement already satisfied: kiwisolver>=1.3.1 in c:\\users\\user\\desktop\\red-light-violation-detection-system\\.venv\\lib\\site-packages (from roboflow) (1.4.5)\n",
      "Requirement already satisfied: matplotlib in c:\\users\\user\\desktop\\red-light-violation-detection-system\\.venv\\lib\\site-packages (from roboflow) (3.8.4)\n",
      "Requirement already satisfied: numpy>=1.18.5 in c:\\users\\user\\desktop\\red-light-violation-detection-system\\.venv\\lib\\site-packages (from roboflow) (1.26.4)\n",
      "Requirement already satisfied: opencv-python-headless==4.8.0.74 in c:\\users\\user\\desktop\\red-light-violation-detection-system\\.venv\\lib\\site-packages (from roboflow) (4.8.0.74)\n",
      "Requirement already satisfied: Pillow>=7.1.2 in c:\\users\\user\\desktop\\red-light-violation-detection-system\\.venv\\lib\\site-packages (from roboflow) (10.3.0)\n",
      "Requirement already satisfied: python-dateutil in c:\\users\\user\\desktop\\red-light-violation-detection-system\\.venv\\lib\\site-packages (from roboflow) (2.9.0.post0)\n",
      "Requirement already satisfied: python-dotenv in c:\\users\\user\\desktop\\red-light-violation-detection-system\\.venv\\lib\\site-packages (from roboflow) (1.0.1)\n",
      "Requirement already satisfied: requests in c:\\users\\user\\desktop\\red-light-violation-detection-system\\.venv\\lib\\site-packages (from roboflow) (2.31.0)\n",
      "Requirement already satisfied: six in c:\\users\\user\\desktop\\red-light-violation-detection-system\\.venv\\lib\\site-packages (from roboflow) (1.16.0)\n",
      "Requirement already satisfied: urllib3>=1.26.6 in c:\\users\\user\\desktop\\red-light-violation-detection-system\\.venv\\lib\\site-packages (from roboflow) (2.2.1)\n",
      "Requirement already satisfied: tqdm>=4.41.0 in c:\\users\\user\\desktop\\red-light-violation-detection-system\\.venv\\lib\\site-packages (from roboflow) (4.66.2)\n",
      "Requirement already satisfied: PyYAML>=5.3.1 in c:\\users\\user\\desktop\\red-light-violation-detection-system\\.venv\\lib\\site-packages (from roboflow) (6.0.1)\n",
      "Requirement already satisfied: requests-toolbelt in c:\\users\\user\\desktop\\red-light-violation-detection-system\\.venv\\lib\\site-packages (from roboflow) (1.0.0)\n",
      "Requirement already satisfied: python-magic in c:\\users\\user\\desktop\\red-light-violation-detection-system\\.venv\\lib\\site-packages (from roboflow) (0.4.27)\n",
      "Requirement already satisfied: colorama in c:\\users\\user\\desktop\\red-light-violation-detection-system\\.venv\\lib\\site-packages (from tqdm>=4.41.0->roboflow) (0.4.6)\n",
      "Requirement already satisfied: contourpy>=1.0.1 in c:\\users\\user\\desktop\\red-light-violation-detection-system\\.venv\\lib\\site-packages (from matplotlib->roboflow) (1.2.1)\n",
      "Requirement already satisfied: fonttools>=4.22.0 in c:\\users\\user\\desktop\\red-light-violation-detection-system\\.venv\\lib\\site-packages (from matplotlib->roboflow) (4.51.0)\n",
      "Requirement already satisfied: packaging>=20.0 in c:\\users\\user\\desktop\\red-light-violation-detection-system\\.venv\\lib\\site-packages (from matplotlib->roboflow) (24.0)\n",
      "Requirement already satisfied: pyparsing>=2.3.1 in c:\\users\\user\\desktop\\red-light-violation-detection-system\\.venv\\lib\\site-packages (from matplotlib->roboflow) (3.1.2)\n",
      "Requirement already satisfied: charset-normalizer<4,>=2 in c:\\users\\user\\desktop\\red-light-violation-detection-system\\.venv\\lib\\site-packages (from requests->roboflow) (3.3.2)\n",
      "loading Roboflow workspace...\n",
      "loading Roboflow project...\n",
      "Dependency ultralytics==8.0.196 is required but found version=8.0.3, to fix: `pip install ultralytics==8.0.196`\n"
     ]
    }
   ],
   "source": [
    "%cd {HOME}\n",
    "!pip install roboflow\n",
    "\n",
    "from roboflow import Roboflow\n",
    "rf = Roboflow(api_key=\"YrXANJjOu5PKjjATmeu4\")\n",
    "project = rf.workspace(\"wawan-pradana\").project(\"cinta_v2\")\n",
    "version = project.version(1)\n",
    "dataset = version.download(\"yolov8\")"
   ]
  },
  {
   "cell_type": "code",
   "execution_count": 15,
   "metadata": {},
   "outputs": [
    {
     "name": "stdout",
     "output_type": "stream",
     "text": [
      "Collecting pickleshareNote: you may need to restart the kernel to use updated packages.\n",
      "\n",
      "  Using cached pickleshare-0.7.5-py2.py3-none-any.whl.metadata (1.5 kB)\n",
      "Using cached pickleshare-0.7.5-py2.py3-none-any.whl (6.9 kB)\n",
      "Installing collected packages: pickleshare\n",
      "Successfully installed pickleshare-0.7.5\n"
     ]
    }
   ],
   "source": [
    "pip install pickleshare"
   ]
  },
  {
   "cell_type": "code",
   "execution_count": 23,
   "metadata": {},
   "outputs": [
    {
     "name": "stdout",
     "output_type": "stream",
     "text": [
      "Requirement already satisfied: ultralytics==8.0.196 in c:\\users\\user\\desktop\\red-light-violation-detection-system\\.venv\\lib\\site-packages (8.0.196)\n",
      "Requirement already satisfied: matplotlib>=3.3.0 in c:\\users\\user\\desktop\\red-light-violation-detection-system\\.venv\\lib\\site-packages (from ultralytics==8.0.196) (3.8.4)\n",
      "Requirement already satisfied: numpy>=1.22.2 in c:\\users\\user\\desktop\\red-light-violation-detection-system\\.venv\\lib\\site-packages (from ultralytics==8.0.196) (1.26.4)\n",
      "Requirement already satisfied: opencv-python>=4.6.0 in c:\\users\\user\\desktop\\red-light-violation-detection-system\\.venv\\lib\\site-packages (from ultralytics==8.0.196) (4.9.0.80)\n",
      "Requirement already satisfied: pillow>=7.1.2 in c:\\users\\user\\desktop\\red-light-violation-detection-system\\.venv\\lib\\site-packages (from ultralytics==8.0.196) (10.3.0)\n",
      "Requirement already satisfied: pyyaml>=5.3.1 in c:\\users\\user\\desktop\\red-light-violation-detection-system\\.venv\\lib\\site-packages (from ultralytics==8.0.196) (6.0.1)\n",
      "Requirement already satisfied: requests>=2.23.0 in c:\\users\\user\\desktop\\red-light-violation-detection-system\\.venv\\lib\\site-packages (from ultralytics==8.0.196) (2.31.0)\n",
      "Requirement already satisfied: scipy>=1.4.1 in c:\\users\\user\\desktop\\red-light-violation-detection-system\\.venv\\lib\\site-packages (from ultralytics==8.0.196) (1.13.0)\n",
      "Requirement already satisfied: torch>=1.8.0 in c:\\users\\user\\desktop\\red-light-violation-detection-system\\.venv\\lib\\site-packages (from ultralytics==8.0.196) (2.2.2)\n",
      "Requirement already satisfied: torchvision>=0.9.0 in c:\\users\\user\\desktop\\red-light-violation-detection-system\\.venv\\lib\\site-packages (from ultralytics==8.0.196) (0.17.2)\n",
      "Requirement already satisfied: tqdm>=4.64.0 in c:\\users\\user\\desktop\\red-light-violation-detection-system\\.venv\\lib\\site-packages (from ultralytics==8.0.196) (4.66.2)\n",
      "Requirement already satisfied: pandas>=1.1.4 in c:\\users\\user\\desktop\\red-light-violation-detection-system\\.venv\\lib\\site-packages (from ultralytics==8.0.196) (2.2.2)\n",
      "Requirement already satisfied: seaborn>=0.11.0 in c:\\users\\user\\desktop\\red-light-violation-detection-system\\.venv\\lib\\site-packages (from ultralytics==8.0.196) (0.13.2)\n",
      "Requirement already satisfied: psutil in c:\\users\\user\\desktop\\red-light-violation-detection-system\\.venv\\lib\\site-packages (from ultralytics==8.0.196) (5.9.8)\n",
      "Requirement already satisfied: py-cpuinfo in c:\\users\\user\\desktop\\red-light-violation-detection-system\\.venv\\lib\\site-packages (from ultralytics==8.0.196) (9.0.0)\n",
      "Requirement already satisfied: thop>=0.1.1 in c:\\users\\user\\desktop\\red-light-violation-detection-system\\.venv\\lib\\site-packages (from ultralytics==8.0.196) (0.1.1.post2209072238)\n",
      "Requirement already satisfied: contourpy>=1.0.1 in c:\\users\\user\\desktop\\red-light-violation-detection-system\\.venv\\lib\\site-packages (from matplotlib>=3.3.0->ultralytics==8.0.196) (1.2.1)\n",
      "Requirement already satisfied: cycler>=0.10 in c:\\users\\user\\desktop\\red-light-violation-detection-system\\.venv\\lib\\site-packages (from matplotlib>=3.3.0->ultralytics==8.0.196) (0.10.0)\n",
      "Requirement already satisfied: fonttools>=4.22.0 in c:\\users\\user\\desktop\\red-light-violation-detection-system\\.venv\\lib\\site-packages (from matplotlib>=3.3.0->ultralytics==8.0.196) (4.51.0)\n",
      "Requirement already satisfied: kiwisolver>=1.3.1 in c:\\users\\user\\desktop\\red-light-violation-detection-system\\.venv\\lib\\site-packages (from matplotlib>=3.3.0->ultralytics==8.0.196) (1.4.5)\n",
      "Requirement already satisfied: packaging>=20.0 in c:\\users\\user\\desktop\\red-light-violation-detection-system\\.venv\\lib\\site-packages (from matplotlib>=3.3.0->ultralytics==8.0.196) (24.0)\n",
      "Requirement already satisfied: pyparsing>=2.3.1 in c:\\users\\user\\desktop\\red-light-violation-detection-system\\.venv\\lib\\site-packages (from matplotlib>=3.3.0->ultralytics==8.0.196) (3.1.2)\n",
      "Requirement already satisfied: python-dateutil>=2.7 in c:\\users\\user\\desktop\\red-light-violation-detection-system\\.venv\\lib\\site-packages (from matplotlib>=3.3.0->ultralytics==8.0.196) (2.9.0.post0)\n",
      "Requirement already satisfied: pytz>=2020.1 in c:\\users\\user\\desktop\\red-light-violation-detection-system\\.venv\\lib\\site-packages (from pandas>=1.1.4->ultralytics==8.0.196) (2024.1)\n",
      "Requirement already satisfied: tzdata>=2022.7 in c:\\users\\user\\desktop\\red-light-violation-detection-system\\.venv\\lib\\site-packages (from pandas>=1.1.4->ultralytics==8.0.196) (2024.1)\n",
      "Requirement already satisfied: charset-normalizer<4,>=2 in c:\\users\\user\\desktop\\red-light-violation-detection-system\\.venv\\lib\\site-packages (from requests>=2.23.0->ultralytics==8.0.196) (3.3.2)\n",
      "Requirement already satisfied: idna<4,>=2.5 in c:\\users\\user\\desktop\\red-light-violation-detection-system\\.venv\\lib\\site-packages (from requests>=2.23.0->ultralytics==8.0.196) (2.10)\n",
      "Requirement already satisfied: urllib3<3,>=1.21.1 in c:\\users\\user\\desktop\\red-light-violation-detection-system\\.venv\\lib\\site-packages (from requests>=2.23.0->ultralytics==8.0.196) (2.2.1)\n",
      "Requirement already satisfied: certifi>=2017.4.17 in c:\\users\\user\\desktop\\red-light-violation-detection-system\\.venv\\lib\\site-packages (from requests>=2.23.0->ultralytics==8.0.196) (2023.7.22)\n",
      "Requirement already satisfied: filelock in c:\\users\\user\\desktop\\red-light-violation-detection-system\\.venv\\lib\\site-packages (from torch>=1.8.0->ultralytics==8.0.196) (3.13.4)\n",
      "Requirement already satisfied: typing-extensions>=4.8.0 in c:\\users\\user\\desktop\\red-light-violation-detection-system\\.venv\\lib\\site-packages (from torch>=1.8.0->ultralytics==8.0.196) (4.11.0)\n",
      "Requirement already satisfied: sympy in c:\\users\\user\\desktop\\red-light-violation-detection-system\\.venv\\lib\\site-packages (from torch>=1.8.0->ultralytics==8.0.196) (1.12)\n",
      "Requirement already satisfied: networkx in c:\\users\\user\\desktop\\red-light-violation-detection-system\\.venv\\lib\\site-packages (from torch>=1.8.0->ultralytics==8.0.196) (3.3)\n",
      "Requirement already satisfied: jinja2 in c:\\users\\user\\desktop\\red-light-violation-detection-system\\.venv\\lib\\site-packages (from torch>=1.8.0->ultralytics==8.0.196) (3.1.3)\n",
      "Requirement already satisfied: fsspec in c:\\users\\user\\desktop\\red-light-violation-detection-system\\.venv\\lib\\site-packages (from torch>=1.8.0->ultralytics==8.0.196) (2024.3.1)\n",
      "Requirement already satisfied: colorama in c:\\users\\user\\desktop\\red-light-violation-detection-system\\.venv\\lib\\site-packages (from tqdm>=4.64.0->ultralytics==8.0.196) (0.4.6)\n",
      "Requirement already satisfied: six in c:\\users\\user\\desktop\\red-light-violation-detection-system\\.venv\\lib\\site-packages (from cycler>=0.10->matplotlib>=3.3.0->ultralytics==8.0.196) (1.16.0)\n",
      "Requirement already satisfied: MarkupSafe>=2.0 in c:\\users\\user\\desktop\\red-light-violation-detection-system\\.venv\\lib\\site-packages (from jinja2->torch>=1.8.0->ultralytics==8.0.196) (2.1.5)\n",
      "Requirement already satisfied: mpmath>=0.19 in c:\\users\\user\\desktop\\red-light-violation-detection-system\\.venv\\lib\\site-packages (from sympy->torch>=1.8.0->ultralytics==8.0.196) (1.3.0)\n",
      "Note: you may need to restart the kernel to use updated packages.\n"
     ]
    }
   ],
   "source": [
    "pip install ultralytics==8.0.196"
   ]
  },
  {
   "cell_type": "markdown",
   "metadata": {},
   "source": [
    "#Train the YOLOV8 model on the custom dataset"
   ]
  },
  {
   "cell_type": "code",
   "execution_count": 24,
   "metadata": {},
   "outputs": [
    {
     "name": "stdout",
     "output_type": "stream",
     "text": [
      "c:\\users\\user\\desktop\\red-light-violation-detection-system\\ultralytics\\ultralytics\\yolo\\v8\\detect\n"
     ]
    }
   ],
   "source": [
    "%cd {HOME}"
   ]
  },
  {
   "cell_type": "code",
   "execution_count": 27,
   "metadata": {},
   "outputs": [
    {
     "name": "stdout",
     "output_type": "stream",
     "text": [
      "c:\\users\\user\\desktop\\red-light-violation-detection-system\\ultralytics\\ultralytics\\yolo\\v8\\detect\\cinTA_v2-1\n"
     ]
    }
   ],
   "source": [
    "%cd {dataset.location}"
   ]
  },
  {
   "cell_type": "code",
   "execution_count": 26,
   "metadata": {},
   "outputs": [
    {
     "name": "stdout",
     "output_type": "stream",
     "text": [
      "c:\\users\\user\\desktop\\red-light-violation-detection-system\\ultralytics\\ultralytics\\yolo\\v8\\detect\n"
     ]
    },
    {
     "name": "stderr",
     "output_type": "stream",
     "text": [
      "Traceback (most recent call last):\n",
      "  File \"c:\\users\\user\\desktop\\red-light-violation-detection-system\\ultralytics\\ultralytics\\yolo\\v8\\detect\\train.py\", line 10, in <module>\n",
      "    from ultralytics.yolo import v8\n",
      "ModuleNotFoundError: No module named 'ultralytics.yolo'\n"
     ]
    }
   ],
   "source": [
    "%cd {HOME}\n",
    "\n",
    "!python train.py model=yolov8.pt data={dataset.location}/data.yaml epochs=80 imgsz=640"
   ]
  }
 ],
 "metadata": {
  "kernelspec": {
   "display_name": ".venv",
   "language": "python",
   "name": "python3"
  },
  "language_info": {
   "codemirror_mode": {
    "name": "ipython",
    "version": 3
   },
   "file_extension": ".py",
   "mimetype": "text/x-python",
   "name": "python",
   "nbconvert_exporter": "python",
   "pygments_lexer": "ipython3",
   "version": "3.12.3"
  }
 },
 "nbformat": 4,
 "nbformat_minor": 2
}
